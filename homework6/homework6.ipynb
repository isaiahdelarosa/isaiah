{
 "cells": [
  {
   "cell_type": "code",
   "execution_count": null,
   "id": "8d71696b-4b04-4d75-a2b0-052ffdcffb2e",
   "metadata": {},
   "outputs": [],
   "source": [
    "# File: homework6"
   ]
  },
  {
   "cell_type": "code",
   "execution_count": null,
   "id": "9b718a51-7cbf-4685-a292-20328f6ebd42",
   "metadata": {},
   "outputs": [],
   "source": [
    "# 3 - Numpy Arrays"
   ]
  },
  {
   "cell_type": "code",
   "execution_count": 55,
   "id": "7e1df97f-4085-4b73-8034-5bf6d2986b82",
   "metadata": {},
   "outputs": [],
   "source": [
    "import numpy as np"
   ]
  },
  {
   "cell_type": "code",
   "execution_count": 56,
   "id": "6535ecc2-b4fa-4aea-97f5-85a69914ae0b",
   "metadata": {},
   "outputs": [],
   "source": [
    "# 3.1 - 1D NumPy Arrays"
   ]
  },
  {
   "cell_type": "code",
   "execution_count": 57,
   "id": "a907c622-5b74-453e-ac5b-204a246318b7",
   "metadata": {},
   "outputs": [],
   "source": [
    "list = [20, 27, 9, 12, 31, 17, 4, 50, 39, 35]\n",
    "arr = np.array(list)"
   ]
  },
  {
   "cell_type": "code",
   "execution_count": 58,
   "id": "17b661bd-ed66-45d0-89c8-a6be3f1b6716",
   "metadata": {},
   "outputs": [
    {
     "name": "stdout",
     "output_type": "stream",
     "text": [
      "Array multiplied by 4: [ 80 108  36  48 124  68  16 200 156 140]\n"
     ]
    }
   ],
   "source": [
    "# Multiply by 4\n",
    "print(\"Array multiplied by 4:\", arr * 4)"
   ]
  },
  {
   "cell_type": "code",
   "execution_count": 59,
   "id": "05f1eed6-b90e-40ff-9ebe-e0fd678056c8",
   "metadata": {},
   "outputs": [
    {
     "name": "stdout",
     "output_type": "stream",
     "text": [
      "Mean: 24.4\n",
      "Median: 23.5\n",
      "Standard Deviation: 13.828955130450023\n"
     ]
    }
   ],
   "source": [
    "# Mean, median, and standard deviation\n",
    "print(\"Mean:\", np.mean(arr))\n",
    "print(\"Median:\", np.median(arr))\n",
    "print(\"Standard Deviation:\", np.std(arr))"
   ]
  },
  {
   "cell_type": "code",
   "execution_count": 60,
   "id": "452c6715-4c2a-4e4f-b6e1-ffb09d23f7e9",
   "metadata": {},
   "outputs": [
    {
     "name": "stdout",
     "output_type": "stream",
     "text": [
      "Index of smallest: 6\n",
      "Index of largest: 7\n"
     ]
    }
   ],
   "source": [
    "# Index of smallest and largest numbers\n",
    "print(\"Index of smallest:\", np.argmin(arr))\n",
    "print(\"Index of largest:\", np.argmax(arr))"
   ]
  },
  {
   "cell_type": "code",
   "execution_count": 61,
   "id": "672a330d-330a-47ca-b47c-5f5d6d3cb7f7",
   "metadata": {},
   "outputs": [
    {
     "name": "stdout",
     "output_type": "stream",
     "text": [
      "Smallest value: 4\n",
      "Largest value: 50\n"
     ]
    }
   ],
   "source": [
    "# Corresponding values\n",
    "print(\"Smallest value:\", arr[np.argmin(arr)])\n",
    "print(\"Largest value:\", arr[np.argmax(arr)])"
   ]
  },
  {
   "cell_type": "code",
   "execution_count": 63,
   "id": "e694bd19-94dc-43c7-a59b-e159bb493d90",
   "metadata": {},
   "outputs": [
    {
     "name": "stdout",
     "output_type": "stream",
     "text": [
      "np.min: 4\n",
      "np.max: 50\n"
     ]
    }
   ],
   "source": [
    "# smallest and largest\n",
    "print(\"np.min:\", np.min(arr))\n",
    "print(\"np.max:\", np.max(arr))"
   ]
  },
  {
   "cell_type": "code",
   "execution_count": 64,
   "id": "be7ad5e0-fd23-49be-8b8e-fb99a9268e79",
   "metadata": {},
   "outputs": [
    {
     "name": "stdout",
     "output_type": "stream",
     "text": [
      "Values greater than 20: [27 31 50 39 35]\n"
     ]
    }
   ],
   "source": [
    "# Values greater than 20\n",
    "print(\"Values greater than 20:\", arr[arr > 20])\n"
   ]
  },
  {
   "cell_type": "code",
   "execution_count": 65,
   "id": "500dbf80-7e79-498a-82bc-8e7348636c96",
   "metadata": {},
   "outputs": [],
   "source": [
    "# 3.2 - 2D NumPy Arrays"
   ]
  },
  {
   "cell_type": "code",
   "execution_count": 66,
   "id": "47b184bb-012d-43bb-b944-3e113e7ae00f",
   "metadata": {},
   "outputs": [],
   "source": [
    "matrix = np.array([\n",
    "    [5, 12, 17, 9],\n",
    "    [8, 21, 14, 3],\n",
    "    [6, 13, 19, 11]\n",
    "])"
   ]
  },
  {
   "cell_type": "code",
   "execution_count": 67,
   "id": "987eca7f-1817-4604-8539-487f62d34226",
   "metadata": {},
   "outputs": [
    {
     "name": "stdout",
     "output_type": "stream",
     "text": [
      "Shape: (3, 4)\n"
     ]
    }
   ],
   "source": [
    "# Shape\n",
    "print(\"Shape:\", matrix.shape)"
   ]
  },
  {
   "cell_type": "code",
   "execution_count": 68,
   "id": "c36137de-5766-4dca-8550-774cc928aed1",
   "metadata": {},
   "outputs": [
    {
     "name": "stdout",
     "output_type": "stream",
     "text": [
      "Third column: [17 14 19]\n",
      "Second row: [ 8 21 14  3]\n"
     ]
    }
   ],
   "source": [
    "# Third column and second row\n",
    "print(\"Third column:\", matrix[:, 2])\n",
    "print(\"Second row:\", matrix[1])"
   ]
  },
  {
   "cell_type": "code",
   "execution_count": 69,
   "id": "13d65767-b50e-4fc9-b903-c45799e0349d",
   "metadata": {},
   "outputs": [
    {
     "name": "stdout",
     "output_type": "stream",
     "text": [
      "Matrix * 2:\n",
      " [[10 24 34 18]\n",
      " [16 42 28  6]\n",
      " [12 26 38 22]]\n"
     ]
    }
   ],
   "source": [
    "# Multiply all elements by 2\n",
    "print(\"Matrix * 2:\\n\", matrix * 2)"
   ]
  },
  {
   "cell_type": "code",
   "execution_count": 70,
   "id": "3a891411-4627-4472-b5c6-9d2774f97699",
   "metadata": {},
   "outputs": [
    {
     "name": "stdout",
     "output_type": "stream",
     "text": [
      "Column means: [ 6.33333333 15.33333333 16.66666667  7.66666667]\n"
     ]
    }
   ],
   "source": [
    "# Mean of each column\n",
    "print(\"Column means:\", np.mean(matrix, axis=0))"
   ]
  },
  {
   "cell_type": "code",
   "execution_count": 71,
   "id": "55a757e3-ea64-4149-a6e6-b0ed41947d03",
   "metadata": {},
   "outputs": [
    {
     "name": "stdout",
     "output_type": "stream",
     "text": [
      "Overall mean: 11.5\n"
     ]
    }
   ],
   "source": [
    "# Overall mean\n",
    "print(\"Overall mean:\", np.mean(matrix))"
   ]
  },
  {
   "cell_type": "code",
   "execution_count": 72,
   "id": "d6012870-83da-4a47-bd6f-1946b016ec21",
   "metadata": {},
   "outputs": [
    {
     "name": "stdout",
     "output_type": "stream",
     "text": [
      "Max of each row: [17 21 19]\n",
      "Min of each column: [ 5 12 14  3]\n"
     ]
    }
   ],
   "source": [
    "# Max per row, min per column\n",
    "print(\"Max of each row:\", np.max(matrix, axis=1))\n",
    "print(\"Min of each column:\", np.min(matrix, axis=0))"
   ]
  },
  {
   "cell_type": "code",
   "execution_count": 74,
   "id": "8ca2aaaa-68d0-4526-83dc-0462d050799b",
   "metadata": {},
   "outputs": [
    {
     "name": "stdout",
     "output_type": "stream",
     "text": [
      "Flattened array: [ 5 12 17  9  8 21 14  3  6 13 19 11]\n",
      "New shape: (12,)\n"
     ]
    }
   ],
   "source": [
    "# Flatten\n",
    "flat = matrix.flatten()\n",
    "print(\"Flattened array:\", flat)\n",
    "print(\"New shape:\", flat.shape)\n",
    "# It makes it into a 1D array"
   ]
  },
  {
   "cell_type": "code",
   "execution_count": 75,
   "id": "85ee6a60-d027-4f02-b3b4-b3586a0689db",
   "metadata": {},
   "outputs": [
    {
     "name": "stdout",
     "output_type": "stream",
     "text": [
      "Flat index of min: 7\n",
      "Flat index of max: 5\n",
      "Unraveled min index: (np.int64(1), np.int64(3))\n",
      "Unraveled max index: (np.int64(1), np.int64(1))\n"
     ]
    }
   ],
   "source": [
    "min_idx = np.argmin(flat)\n",
    "max_idx = np.argmax(flat)\n",
    "print(\"Flat index of min:\", min_idx)\n",
    "print(\"Flat index of max:\", max_idx)\n",
    "print(\"Unraveled min index:\", np.unravel_index(min_idx, matrix.shape))\n",
    "print(\"Unraveled max index:\", np.unravel_index(max_idx, matrix.shape))"
   ]
  },
  {
   "cell_type": "code",
   "execution_count": 76,
   "id": "8b5e6e5f-5f46-4df0-9ef2-1be8cb915428",
   "metadata": {},
   "outputs": [
    {
     "name": "stdout",
     "output_type": "stream",
     "text": [
      "Values > 15: [17 21 19]\n"
     ]
    }
   ],
   "source": [
    "# Values > 15\n",
    "print(\"Values > 15:\", matrix[matrix > 15])"
   ]
  },
  {
   "cell_type": "code",
   "execution_count": 77,
   "id": "6fa9250c-00d7-4bd6-a1e4-131fca29322a",
   "metadata": {},
   "outputs": [
    {
     "name": "stdout",
     "output_type": "stream",
     "text": [
      "Sorted rows:\n",
      " [[ 5  9 12 17]\n",
      " [ 3  8 14 21]\n",
      " [ 6 11 13 19]]\n"
     ]
    }
   ],
   "source": [
    "# Sort\n",
    "print(\"Sorted rows:\\n\", np.sort(matrix, axis=1))"
   ]
  },
  {
   "cell_type": "code",
   "execution_count": 78,
   "id": "925b2361-73a1-412a-9ea8-36f461075de6",
   "metadata": {},
   "outputs": [],
   "source": [
    "# 4 - Prime Star Systems"
   ]
  },
  {
   "cell_type": "code",
   "execution_count": 79,
   "id": "9cef06df-b750-4544-8a1c-e949293155c1",
   "metadata": {},
   "outputs": [],
   "source": [
    "arr = np.array([\n",
    "    [2, 3, 5],\n",
    "    [14, 6, 8],\n",
    "    [11, 13, 17],\n",
    "    [7, 10, 13]\n",
    "])"
   ]
  },
  {
   "cell_type": "code",
   "execution_count": 80,
   "id": "22c3a8eb-abd2-41d7-951d-ceec2491ef6c",
   "metadata": {},
   "outputs": [],
   "source": [
    "def is_prime(n):\n",
    "    if n < 2:\n",
    "        return False\n",
    "    for i in range(2, int(np.sqrt(n)) + 1):\n",
    "        if n % i == 0:\n",
    "            return False\n",
    "    return True"
   ]
  },
  {
   "cell_type": "code",
   "execution_count": 81,
   "id": "05cb17f7-e41d-4288-b8c7-63ae724a9cc1",
   "metadata": {},
   "outputs": [],
   "source": [
    "def prime_star_systems(arr):\n",
    "    mask = np.array([any(is_prime(x) for x in row) for row in arr])\n",
    "    return arr[mask]"
   ]
  },
  {
   "cell_type": "code",
   "execution_count": 82,
   "id": "591103fa-c795-410a-98cd-f09401ce8489",
   "metadata": {},
   "outputs": [
    {
     "name": "stdout",
     "output_type": "stream",
     "text": [
      "Rows with at least one prime:\n",
      " [[ 2  3  5]\n",
      " [11 13 17]\n",
      " [ 7 10 13]]\n"
     ]
    }
   ],
   "source": [
    "print(\"Rows with at least one prime:\\n\", prime_star_systems(arr))"
   ]
  },
  {
   "cell_type": "code",
   "execution_count": 83,
   "id": "2cba29a7-db75-445f-a942-58217e0da929",
   "metadata": {},
   "outputs": [],
   "source": [
    "# 5 - Checkers"
   ]
  },
  {
   "cell_type": "code",
   "execution_count": 84,
   "id": "2009c716-07a7-452d-8c86-ae1d74b04f52",
   "metadata": {},
   "outputs": [
    {
     "name": "stdout",
     "output_type": "stream",
     "text": [
      "[[0 0 0 0 0 0 0 0]\n",
      " [0 0 0 0 0 0 0 0]\n",
      " [0 0 0 0 0 0 0 0]\n",
      " [0 0 0 0 0 0 0 0]\n",
      " [0 0 0 0 0 0 0 0]\n",
      " [0 0 0 0 0 0 0 0]\n",
      " [0 0 0 0 0 0 0 0]\n",
      " [0 0 0 0 0 0 0 0]]\n"
     ]
    }
   ],
   "source": [
    "def empty_board():\n",
    "    board = np.zeros((8, 8), dtype=int)\n",
    "    return board\n",
    "    \n",
    "print(empty_board())"
   ]
  },
  {
   "cell_type": "code",
   "execution_count": 85,
   "id": "6ac414d5-856d-4494-98a2-0919fd84fe07",
   "metadata": {},
   "outputs": [
    {
     "name": "stdout",
     "output_type": "stream",
     "text": [
      "[[0 0 0 0 0 0 0 0]\n",
      " [0 1 0 1 0 1 0 1]\n",
      " [0 0 0 0 0 0 0 0]\n",
      " [0 1 0 1 0 1 0 1]\n",
      " [0 0 0 0 0 0 0 0]\n",
      " [0 1 0 1 0 1 0 1]\n",
      " [0 0 0 0 0 0 0 0]\n",
      " [0 1 0 1 0 1 0 1]]\n"
     ]
    }
   ],
   "source": [
    "def partial_checkerboard():\n",
    "    board = np.zeros((8, 8), dtype=int)\n",
    "    # Fill only odd-numbered rows (1, 3, 5, 7)\n",
    "    for i in range(1, 8, 2):\n",
    "        board[i, 1::2] = 1  # pattern starting with 1\n",
    "    return board\n",
    "\n",
    "print(partial_checkerboard())"
   ]
  },
  {
   "cell_type": "code",
   "execution_count": 86,
   "id": "4aef75f7-9442-4db9-86f0-5be6f58e6d93",
   "metadata": {},
   "outputs": [
    {
     "name": "stdout",
     "output_type": "stream",
     "text": [
      "[[1 0 1 0 1 0 1 0]\n",
      " [0 1 0 1 0 1 0 1]\n",
      " [1 0 1 0 1 0 1 0]\n",
      " [0 1 0 1 0 1 0 1]\n",
      " [1 0 1 0 1 0 1 0]\n",
      " [0 1 0 1 0 1 0 1]\n",
      " [1 0 1 0 1 0 1 0]\n",
      " [0 1 0 1 0 1 0 1]]\n"
     ]
    }
   ],
   "source": [
    "def checkerboard():\n",
    "    board = np.zeros((8, 8), dtype=int)\n",
    "    board[::2, ::2] = 1  # even rows start with 1\n",
    "    board[1::2, 1::2] = 1  # odd rows shifted pattern\n",
    "    return board\n",
    "\n",
    "print(checkerboard())"
   ]
  },
  {
   "cell_type": "code",
   "execution_count": 87,
   "id": "674b72b7-d740-46ec-bde3-09d9606fb01a",
   "metadata": {},
   "outputs": [
    {
     "name": "stdout",
     "output_type": "stream",
     "text": [
      "[[0 1 0 1 0 1 0 1]\n",
      " [1 0 1 0 1 0 1 0]\n",
      " [0 1 0 1 0 1 0 1]\n",
      " [1 0 1 0 1 0 1 0]\n",
      " [0 1 0 1 0 1 0 1]\n",
      " [1 0 1 0 1 0 1 0]\n",
      " [0 1 0 1 0 1 0 1]\n",
      " [1 0 1 0 1 0 1 0]]\n"
     ]
    }
   ],
   "source": [
    "def reverse_checkerboard():\n",
    "    board = np.zeros((8, 8), dtype=int)\n",
    "    board[::2, 1::2] = 1  # even rows start with 0\n",
    "    board[1::2, ::2] = 1  # odd rows shifted pattern\n",
    "    return board\n",
    "\n",
    "print(reverse_checkerboard())"
   ]
  },
  {
   "cell_type": "code",
   "execution_count": 88,
   "id": "ad011a36-bc51-48a4-a869-a328d9573bd1",
   "metadata": {},
   "outputs": [],
   "source": [
    "#6 - The Expanding Universe"
   ]
  },
  {
   "cell_type": "code",
   "execution_count": 89,
   "id": "25fc5642-613b-46da-bfc3-718b1bf5f68b",
   "metadata": {},
   "outputs": [],
   "source": [
    "def expansion(arr, n):\n",
    "    expanded = np.array([' '.join(word[i] for i in range(len(word))).replace(' ', ' ' * (n + 1)) for word in arr])\n",
    "    return expanded"
   ]
  },
  {
   "cell_type": "code",
   "execution_count": 90,
   "id": "a046ecc1-17af-43b5-a98c-101cfddf9170",
   "metadata": {},
   "outputs": [
    {
     "name": "stdout",
     "output_type": "stream",
     "text": [
      "Expansion with 1 space:\n",
      " ['g  a  l  a  x  y' 'c  l  u  s  t  e  r  s']\n",
      "Expansion with 2 spaces:\n",
      " ['g   a   l   a   x   y' 'c   l   u   s   t   e   r   s']\n"
     ]
    }
   ],
   "source": [
    "universe = np.array(['galaxy', 'clusters'])\n",
    "print(\"Expansion with 1 space:\\n\", expansion(universe, 1))\n",
    "print(\"Expansion with 2 spaces:\\n\", expansion(universe, 2))"
   ]
  },
  {
   "cell_type": "code",
   "execution_count": 91,
   "id": "6afe3c18-4684-4a0b-a832-1e3d0ef68e3c",
   "metadata": {},
   "outputs": [],
   "source": [
    "# 7 - Second-Brightest Star"
   ]
  },
  {
   "cell_type": "code",
   "execution_count": 93,
   "id": "5ead6619-4e58-45ea-9612-b0ce7dcb00a6",
   "metadata": {},
   "outputs": [],
   "source": [
    "def secondDimmest(stars):\n",
    "    sorted_rows = np.sort(stars, axis=1)[:, ::-1]\n",
    "    return sorted_rows[:, 1]"
   ]
  },
  {
   "cell_type": "code",
   "execution_count": 94,
   "id": "9e84b894-2560-4a05-9606-fce666d2ecc0",
   "metadata": {},
   "outputs": [
    {
     "name": "stdout",
     "output_type": "stream",
     "text": [
      "Stars array:\n",
      " [[1889 1906 1846 1622 1541]\n",
      " [ 606 1647 1738  596  613]\n",
      " [1138  547  573 1442  724]\n",
      " [ 611 1933 1863 1346 1777]\n",
      " [ 920 1108 1732 1592  951]]\n",
      "Second brightest in each cluster:\n",
      " [1889 1647 1138 1863 1592]\n"
     ]
    }
   ],
   "source": [
    "np.random.seed(123)\n",
    "stars = np.random.randint(500, 2000, (5, 5))\n",
    "print(\"Stars array:\\n\", stars)\n",
    "print(\"Second brightest in each cluster:\\n\", secondDimmest(stars))"
   ]
  },
  {
   "cell_type": "code",
   "execution_count": null,
   "id": "bb046898-ceac-4d57-9399-f517863069a9",
   "metadata": {},
   "outputs": [],
   "source": []
  }
 ],
 "metadata": {
  "kernelspec": {
   "display_name": "Python 3 (ipykernel)",
   "language": "python",
   "name": "python3"
  },
  "language_info": {
   "codemirror_mode": {
    "name": "ipython",
    "version": 3
   },
   "file_extension": ".py",
   "mimetype": "text/x-python",
   "name": "python",
   "nbconvert_exporter": "python",
   "pygments_lexer": "ipython3",
   "version": "3.13.5"
  }
 },
 "nbformat": 4,
 "nbformat_minor": 5
}
